{
 "cells": [
  {
   "cell_type": "markdown",
   "id": "abd940ad-090d-408a-9035-6f4863e69fc0",
   "metadata": {},
   "source": [
    "# Speed Dating - Part I\n",
    "\n",
    "## Challenge description\n",
    "\n",
    "We will start a new data visualization and exploration project. Your goal will be to try to understand *love*! It's a very complicated subject so we've simplified it. Your goal is going to be to understand what happens during a speed dating and especially to understand what will influence the obtaining of a **second date**.\n",
    "\n",
    "This is a Kaggle competition on which you can find more details here :\n",
    "\n",
    "### Nous allons démarrer un nouveau projet de visualisation et d'exploration de données. Votre but sera d'essayer de comprendre l'amour ! C'est un sujet très compliqué, nous l'avons donc simplifié. Votre objectif va être de comprendre ce qui se passe lors d'un speed dating et surtout de comprendre ce qui va influencer l'obtention d'un deuxième rendez-vous.\n",
    "\n",
    "### Il s'agit d'un concours Kaggle sur lequel vous pouvez trouver plus de détails ici :\n",
    "\n",
    "[Speed Dating Dataset](https://www.kaggle.com/annavictoria/speed-dating-experiment#Speed%20Dating%20Data%20Key.doc)\n",
    "\n",
    "Take some time to read the description of the challenge and try to understand each of the variables in the dataset. Help yourself with this from the document : *Speed Dating - Variable Description.md*\n",
    "\n",
    "### Prenez le temps de lire la description du défi et essayez de comprendre chacune des variables de l'ensemble de données. Aidez-vous du document : *Speed ​​Dating - Variable Description.md*\n",
    "\n",
    "\n",
    "### Rendering   Le rendu\n",
    "\n",
    "To be successful in this project, you will need to do a descriptive analysis of the main factors that influence getting a second appointment.\n",
    "\n",
    "### Pour réussir ce projet, vous devrez faire une analyse descriptive des principaux facteurs qui influencent l'obtention d'un deuxième rendez-vous."
   ]
  },
  {
   "cell_type": "code",
   "execution_count": null,
   "id": "4bf799be-b5d4-4108-a84f-dcfd405f619a",
   "metadata": {},
   "outputs": [],
   "source": []
  }
 ],
 "metadata": {
  "kernelspec": {
   "display_name": "Python 3 (ipykernel)",
   "language": "python",
   "name": "python3"
  },
  "language_info": {
   "codemirror_mode": {
    "name": "ipython",
    "version": 3
   },
   "file_extension": ".py",
   "mimetype": "text/x-python",
   "name": "python",
   "nbconvert_exporter": "python",
   "pygments_lexer": "ipython3",
   "version": "3.9.7"
  }
 },
 "nbformat": 4,
 "nbformat_minor": 5
}
